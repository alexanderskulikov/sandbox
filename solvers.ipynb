{
 "cells": [
  {
   "cell_type": "code",
   "execution_count": null,
   "metadata": {},
   "outputs": [],
   "source": [
    "!pip install mip\n",
    "!pip install pycosat\n",
    "!pip install shapely\n",
    "from itertools import combinations, product\n",
    "from mip.model import *\n",
    "from pycosat import solve\n",
    "from shapely.geometry import LineString"
   ]
  },
  {
   "cell_type": "markdown",
   "metadata": {},
   "source": [
    "# Queens"
   ]
  },
  {
   "cell_type": "code",
   "execution_count": null,
   "metadata": {},
   "outputs": [],
   "source": [
    "n = 20\n",
    "clauses = []\n",
    "\n",
    "\n",
    "# convert pairs of integers to a unique integer\n",
    "def varnum(i, j):\n",
    "    assert i in range(n) and j in range(n)\n",
    "    return i * n + j + 1\n",
    "\n",
    "\n",
    "# each row contains at least one queen\n",
    "for i in range(n):\n",
    "    clauses.append([varnum(i, j) for j in range(n)])\n",
    "\n",
    "# each row contains at most one queen\n",
    "for i in range(n):\n",
    "    for j1, j2 in combinations(range(n), 2):\n",
    "        clauses.append([-varnum(i, j1), -varnum(i, j2)])\n",
    "\n",
    "# each column contains at most one queen\n",
    "for j in range(n):\n",
    "    for i1, i2 in combinations(range(n), 2):\n",
    "        clauses.append([-varnum(i1, j), -varnum(i2, j)])\n",
    "\n",
    "# no two queens stay on the same diagonal\n",
    "for i1, j1, i2, j2 in product(range(n), repeat=4):\n",
    "    if i1 == i2:\n",
    "        continue\n",
    "\n",
    "    if abs(i1 - i2) == abs(j1 - j2):\n",
    "        clauses.append([-varnum(i1, j1),\n",
    "                        -varnum(i2, j2)])\n",
    "\n",
    "\n",
    "assignment = solve(clauses)\n",
    "for i, j in product(range(n), repeat=2):\n",
    "    if assignment[varnum(i, j) - 1] > 0:\n",
    "        print(j, end=' ')"
   ]
  },
  {
   "cell_type": "markdown",
   "metadata": {},
   "source": [
    "# Diagonals"
   ]
  },
  {
   "cell_type": "code",
   "execution_count": null,
   "metadata": {},
   "outputs": [],
   "source": [
    "n = 5\n",
    "\n",
    "model = Model()\n",
    "model.verbose = False\n",
    "\n",
    "segments = {}\n",
    "for i, j in product(range(n + 1), repeat=2):\n",
    "    for delta_i, delta_j in product((-1, 1), repeat=2):\n",
    "        if i + delta_i in range(n + 1) and j + delta_j in range(n + 1):\n",
    "            segments[i, j, i + delta_i, j + delta_j] = \\\n",
    "                model.add_var(var_type=BINARY)\n",
    "\n",
    "for s1, s2 in combinations(segments, 2):\n",
    "    if LineString([s1[:2], s1[2:]]).intersects(LineString([s2[:2], s2[2:]])):\n",
    "        model += segments[s1] + segments[s2] <= 1\n",
    "\n",
    "model.objective = maximize(xsum(segments.values()))\n",
    "model.optimize()\n",
    "\n",
    "print(model.objective_value)\n",
    "for s in segments:\n",
    "    if abs(segments[s].x) > 1e-6:\n",
    "        print(s)"
   ]
  },
  {
   "cell_type": "code",
   "execution_count": null,
   "metadata": {},
   "outputs": [],
   "source": []
  }
 ],
 "metadata": {
  "kernelspec": {
   "display_name": "Python 3",
   "language": "python",
   "name": "python3"
  },
  "language_info": {
   "codemirror_mode": {
    "name": "ipython",
    "version": 3
   },
   "file_extension": ".py",
   "mimetype": "text/x-python",
   "name": "python",
   "nbconvert_exporter": "python",
   "pygments_lexer": "ipython3",
   "version": "3.9.2"
  }
 },
 "nbformat": 4,
 "nbformat_minor": 2
}

{
 "cells": [
  {
   "cell_type": "code",
   "execution_count": 1,
   "id": "0e9a406f",
   "metadata": {},
   "outputs": [
    {
     "name": "stdout",
     "output_type": "stream",
     "text": [
      "(0, 0, 0) -0.33+0.00j\n",
      "(1, 1, 1) 0.67-0.00j\n",
      "(2, 2, 2) 0.67-0.00j\n"
     ]
    }
   ],
   "source": [
    "from cmath import pi, rect\n",
    "from itertools import combinations, product\n",
    "from math import prod\n",
    "import pygraphviz as pgv\n",
    "\n",
    "\n",
    "n = 3\n",
    "\n",
    "def f(x):\n",
    "    assert all(t in [0, 1, 2] for t in x)\n",
    "    return 1 if sum(x) % 3 == 0 else -1 # mod3\n",
    "    # return prod([(1 if t == 0 else -1) for t in x]) # xor\n",
    "\n",
    "\n",
    "def dot(x, v):\n",
    "    assert all(t in [0, 1, 2] for t in x) and all(t in [0, 1, 2] for t in v) and len(x) == len(v)\n",
    "    return sum([x[i] * v[i] for i in range(len(x))]) % 3\n",
    "\n",
    "\n",
    "def fourier_coefficient(v):\n",
    "    return sum(f(x) * rect(1, 2 * pi * dot(x, v) / 3) for x in product([0, 1, 2], repeat=len(v))) / 3 ** len(v)\n",
    "\n",
    "\n",
    "coefficients = dict()\n",
    "for v in product([0, 1, 2], repeat=n):\n",
    "    coefficients[v] = fourier_coefficient(v)\n",
    "    if abs(coefficients[v]) > 0.00001:\n",
    "        print(f'{v} {fourier_coefficient(v):.2f}')\n",
    "\n",
    "strings = [''.join(a) for a in product('012', repeat=n)]\n",
    "\n",
    "graph = pgv.AGraph(directed=True, rankdir='BT')\n",
    "for s1, s2 in combinations(strings, 2):\n",
    "    diff = [i for i in range(n) if s1[i] != s2[i] and (s1[i] == '0' or s2[i] == '0')]\n",
    "    if len(diff) == 1:\n",
    "        i = diff[0]\n",
    "        if s1[i] != '0':\n",
    "            graph.add_edge(s2, s1)\n",
    "            graph.get_edge(s2, s1).attr['color'] = 'white'\n",
    "        else:\n",
    "            graph.add_edge(s1, s2)\n",
    "            graph.get_edge(s1, s2).attr['color'] = 'white'\n",
    "\n",
    "for v in graph.nodes():\n",
    "    graph.get_node(v).attr['style'] = 'filled'\n",
    "    int_v = tuple([int(s) for s in v])\n",
    "    coef = coefficients[int_v]\n",
    "    graph.get_node(v).attr['fillcolor'] = 'grey' + str(int((1 - abs(coef)) * 99))\n",
    "\n",
    "graph.layout(prog='dot')\n",
    "graph.draw('fourier_coefficients.png')"
   ]
  },
  {
   "cell_type": "markdown",
   "id": "9c97cc1d",
   "metadata": {},
   "source": [
    "![coefficient](fourier_coefficients.png)"
   ]
  },
  {
   "cell_type": "code",
   "execution_count": null,
   "id": "44a4389b",
   "metadata": {},
   "outputs": [],
   "source": []
  },
  {
   "cell_type": "code",
   "execution_count": null,
   "id": "3cd69aab",
   "metadata": {},
   "outputs": [],
   "source": []
  }
 ],
 "metadata": {
  "kernelspec": {
   "display_name": "Python 3",
   "language": "python",
   "name": "python3"
  },
  "language_info": {
   "codemirror_mode": {
    "name": "ipython",
    "version": 3
   },
   "file_extension": ".py",
   "mimetype": "text/x-python",
   "name": "python",
   "nbconvert_exporter": "python",
   "pygments_lexer": "ipython3",
   "version": "3.9.2"
  }
 },
 "nbformat": 4,
 "nbformat_minor": 5
}
